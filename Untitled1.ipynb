{
  "nbformat": 4,
  "nbformat_minor": 0,
  "metadata": {
    "colab": {
      "provenance": [],
      "authorship_tag": "ABX9TyOXjihBw2HIwgJ6t1KY+6j0",
      "include_colab_link": true
    },
    "kernelspec": {
      "name": "python3",
      "display_name": "Python 3"
    },
    "language_info": {
      "name": "python"
    }
  },
  "cells": [
    {
      "cell_type": "markdown",
      "metadata": {
        "id": "view-in-github",
        "colab_type": "text"
      },
      "source": [
        "<a href=\"https://colab.research.google.com/github/nffdf1/hexlet-git/blob/main/Untitled1.ipynb\" target=\"_parent\"><img src=\"https://colab.research.google.com/assets/colab-badge.svg\" alt=\"Open In Colab\"/></a>"
      ]
    },
    {
      "cell_type": "markdown",
      "source": [
        "Использование обученной модели"
      ],
      "metadata": {
        "id": "w3HiSPGOLt3K"
      }
    },
    {
      "cell_type": "code",
      "source": [
        "from keras.models import load_model # TensorFlow is required for Keras to work\n",
        "from PIL import Image, ImageOps # Install pillow instead of PIL\n",
        "import numpy as np\n",
        "# Disable scientific notation for clarity\n",
        "np.set_printoptions(suppress=True)\n",
        "# Load the model\n",
        "model = load_model(\"keras_model.h5\", compile=False)\n",
        "# Load the labels\n",
        "class_names = open(\"labels.txt\", \"r\").readlines()\n",
        "# Create the array of the right shape to feed into the keras model\n",
        "# The 'length' or number of images you can put into the array is\n",
        "# determined by the first position in the shape tuple, in this case 1\n",
        "data = np.ndarray(shape=(1, 224, 224, 3), dtype=np.float32)\n",
        "# Replace this with the path to your image\n",
        "image = Image.open(\"10.jpg\").convert(\"RGB\")\n",
        "# resizing the image to be at least 224x224 and then cropping from the center\n",
        "size = (224, 224)\n",
        "#image = ImageOps.fit(image, size, Image.Resampling.LANCZOS)\n",
        "image = ImageOps.fit(image, size, method=Image.LANCZOS)\n",
        "# turn the image into a numpy array\n",
        "image_array = np.asarray(image)\n",
        "# Normalize the imag\n",
        "normalized_image_array = (image_array.astype(np.float32) / 127.5) - 1\n",
        "# Load the image into the array\n",
        "data[0] = normalized_image_array\n",
        "# Predicts the model\n",
        "prediction = model.predict(data)\n",
        "index = np.argmax(prediction)\n",
        "class_name = class_names[index]\n",
        "confidence_score = prediction[0][index]\n",
        "# Print prediction and confidence score\n",
        "print(\"Class:\", class_name[2:], end=\"\")\n",
        "print(\"Confidence Score:\", confidence_score)"
      ],
      "metadata": {
        "colab": {
          "base_uri": "https://localhost:8080/"
        },
        "id": "hSDA234kL1wB",
        "outputId": "76269997-9e3b-4430-d9d2-186041d0d302"
      },
      "execution_count": 3,
      "outputs": [
        {
          "output_type": "stream",
          "name": "stdout",
          "text": [
            "1/1 [==============================] - 1s 1s/step\n",
            "Class: stand\n",
            "Confidence Score: 0.995522\n"
          ]
        }
      ]
    }
  ]
}